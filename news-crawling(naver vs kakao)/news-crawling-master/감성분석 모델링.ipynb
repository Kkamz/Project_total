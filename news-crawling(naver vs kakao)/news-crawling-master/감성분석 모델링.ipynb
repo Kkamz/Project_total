{
 "cells": [
  {
   "cell_type": "code",
   "execution_count": 3,
   "metadata": {},
   "outputs": [],
   "source": [
    "import pandas as pd \n",
    "train_data = pd.read_csv(\"daum_naver_sentiment.csv\") \n",
    "test_data = pd.read_csv(\"daum_kakao_sentiment.csv\")"
   ]
  },
  {
   "cell_type": "code",
   "execution_count": 6,
   "metadata": {},
   "outputs": [],
   "source": [
    "%matplotlib inline \n",
    "import matplotlib.pyplot as plt"
   ]
  },
  {
   "cell_type": "code",
   "execution_count": 7,
   "metadata": {},
   "outputs": [
    {
     "data": {
      "text/plain": [
       "<matplotlib.axes._subplots.AxesSubplot at 0x1a71f09a0c8>"
      ]
     },
     "execution_count": 7,
     "metadata": {},
     "output_type": "execute_result"
    },
    {
     "data": {
      "image/png": "[encoded data removed]",
      "text/plain": [
       "<Figure size 432x288 with 1 Axes>"
      ]
     },
     "metadata": {
      "image/png": {
       "height": 248,
       "width": 375
      },
      "needs_background": "light"
     },
     "output_type": "display_data"
    }
   ],
   "source": [
    "train_data['label'].value_counts().plot(kind='bar')"
   ]
  },
  {
   "cell_type": "code",
   "execution_count": 8,
   "metadata": {},
   "outputs": [
    {
     "data": {
      "text/plain": [
       "<matplotlib.axes._subplots.AxesSubplot at 0x1a71f97c8c8>"
      ]
     },
     "execution_count": 8,
     "metadata": {},
     "output_type": "execute_result"
    },
    {
     "data": {
      "image/png": "[encoded data removed]",
      "text/plain": [
       "<Figure size 432x288 with 1 Axes>"
      ]
     },
     "metadata": {
      "image/png": {
       "height": 248,
       "width": 375
      },
      "needs_background": "light"
     },
     "output_type": "display_data"
    }
   ],
   "source": [
    "test_data['label'].value_counts().plot(kind='bar')"
   ]
  },
  {
   "cell_type": "code",
   "execution_count": 9,
   "metadata": {},
   "outputs": [
    {
     "name": "stdout",
     "output_type": "stream",
     "text": [
      "   label  count\n",
      "0     -1    213\n",
      "1      1    277\n",
      "   label  count\n",
      "0     -1    324\n",
      "1      1    166\n"
     ]
    }
   ],
   "source": [
    "print(train_data.groupby('label').size().reset_index(name='count')) \n",
    "print(test_data.groupby('label').size().reset_index(name='count'))"
   ]
  },
  {
   "cell_type": "code",
   "execution_count": 41,
   "metadata": {},
   "outputs": [],
   "source": [
    "stopwords = ['의', '가', '이', '은', '들', '는', '좀', '잘', '걍', '과', '도', '를', '으로', '자', '에', '와', '한', '하다',',','...','..','.',\"'\",'?','\"','!','.']"
   ]
  },
  {
   "cell_type": "code",
   "execution_count": 42,
   "metadata": {},
   "outputs": [],
   "source": [
    "import konlpy \n",
    "from konlpy.tag import Okt \n",
    "okt = Okt() \n",
    "X_train = [] \n",
    "for sentence in train_data['title']:\n",
    "    temp_X = [] \n",
    "    temp_X = okt.morphs(sentence, stem=True) # 토큰화 \n",
    "    temp_X = [word for word in temp_X if not word in stopwords] # 불용어 제거 \n",
    "    X_train.append(temp_X) \n",
    "    \n",
    "X_test = [] \n",
    "for sentence in test_data['title']: \n",
    "    temp_X = [] \n",
    "    temp_X = okt.morphs(sentence, stem=True) # 토큰화 \n",
    "    temp_X = [word for word in temp_X if not word in stopwords] # 불용어 제거 \n",
    "    X_test.append(temp_X)"
   ]
  },
  {
   "cell_type": "code",
   "execution_count": 43,
   "metadata": {
    "scrolled": true
   },
   "outputs": [
    {
     "name": "stdout",
     "output_type": "stream",
     "text": [
      "[['현대차', '주가', '7.7%', '올리다', '전기차', '전용', '플랫폼', \"'..\", '기대', '우려', '[', '김'], ['고', '금리', '적금', '부터', '세', '테크', '까지', '전업', '맘', '재테크', '여왕', '투자', '6', '계명'], ['롯데', '케미칼', '2', '차다', '관련', '주로', '거듭', '날', '수', '있다', '[', '주', '코', '노미', 'TV', ']']]\n"
     ]
    }
   ],
   "source": [
    "print(X_train[:3])"
   ]
  },
  {
   "cell_type": "code",
   "execution_count": 15,
   "metadata": {
    "scrolled": false
   },
   "outputs": [
    {
     "name": "stdout",
     "output_type": "stream",
     "text": [
      "Collecting keras\n",
      "  Downloading Keras-2.4.3-py2.py3-none-any.whl (36 kB)\n",
      "Requirement already satisfied: pyyaml in c:\\users\\alal8\\anaconda3\\lib\\site-packages (from keras) (5.3)\n",
      "Requirement already satisfied: scipy>=0.14 in c:\\users\\alal8\\anaconda3\\lib\\site-packages (from keras) (1.5.4)\n",
      "Requirement already satisfied: h5py in c:\\users\\alal8\\anaconda3\\lib\\site-packages (from keras) (2.10.0)\n",
      "Requirement already satisfied: numpy>=1.9.1 in c:\\users\\alal8\\anaconda3\\lib\\site-packages (from keras) (1.19.4)\n",
      "Requirement already satisfied: six in c:\\users\\alal8\\anaconda3\\lib\\site-packages (from h5py->keras) (1.14.0)\n",
      "Installing collected packages: keras\n",
      "Successfully installed keras-2.4.3\n"
     ]
    }
   ],
   "source": [
    "!pip install keras"
   ]
  },
  {
   "cell_type": "code",
   "execution_count": 28,
   "metadata": {},
   "outputs": [
    {
     "name": "stdout",
     "output_type": "stream",
     "text": [
      "Collecting tensorflow\n",
      "  Using cached tensorflow-2.3.1-cp37-cp37m-win_amd64.whl (342.5 MB)\n",
      "Processing c:\\users\\alal8\\appdata\\local\\pip\\cache\\wheels\\3f\\e3\\ec\\8a8336ff196023622fbcb36de0c5a5c218cbb24111d1d4c7f2\\termcolor-1.1.0-py3-none-any.whl\n",
      "Collecting google-pasta>=0.1.8\n",
      "  Using cached google_pasta-0.2.0-py3-none-any.whl (57 kB)\n",
      "Collecting tensorflow-estimator<2.4.0,>=2.3.0\n",
      "  Using cached tensorflow_estimator-2.3.0-py2.py3-none-any.whl (459 kB)\n",
      "Requirement already satisfied: astunparse==1.6.3 in c:\\users\\alal8\\anaconda3\\lib\\site-packages (from tensorflow) (1.6.3)\n",
      "Requirement already satisfied: h5py<2.11.0,>=2.10.0 in c:\\users\\alal8\\anaconda3\\lib\\site-packages (from tensorflow) (2.10.0)\n",
      "Collecting opt-einsum>=2.3.2\n",
      "  Using cached opt_einsum-3.3.0-py3-none-any.whl (65 kB)\n",
      "Requirement already satisfied: gast==0.3.3 in c:\\users\\alal8\\anaconda3\\lib\\site-packages (from tensorflow) (0.3.3)\n",
      "Requirement already satisfied: six>=1.12.0 in c:\\users\\alal8\\anaconda3\\lib\\site-packages (from tensorflow) (1.14.0)\n",
      "Collecting grpcio>=1.8.6\n",
      "  Using cached grpcio-1.34.0-cp37-cp37m-win_amd64.whl (2.9 MB)\n",
      "Requirement already satisfied: wrapt>=1.11.1 in c:\\users\\alal8\\anaconda3\\lib\\site-packages (from tensorflow) (1.11.2)\n",
      "Requirement already satisfied: wheel>=0.26 in c:\\users\\alal8\\anaconda3\\lib\\site-packages (from tensorflow) (0.34.2)\n",
      "Collecting absl-py>=0.7.0\n",
      "  Using cached absl_py-0.11.0-py3-none-any.whl (127 kB)\n",
      "Requirement already satisfied: numpy<1.19.0,>=1.16.0 in c:\\users\\alal8\\anaconda3\\lib\\site-packages (from tensorflow) (1.18.5)\n",
      "Requirement already satisfied: protobuf>=3.9.2 in c:\\users\\alal8\\anaconda3\\lib\\site-packages (from tensorflow) (3.14.0)\n",
      "Collecting tensorboard<3,>=2.3.0\n",
      "  Using cached tensorboard-2.4.0-py3-none-any.whl (10.6 MB)\n",
      "Collecting keras-preprocessing<1.2,>=1.1.1\n",
      "  Using cached Keras_Preprocessing-1.1.2-py2.py3-none-any.whl (42 kB)\n",
      "Requirement already satisfied: werkzeug>=0.11.15 in c:\\users\\alal8\\anaconda3\\lib\\site-packages (from tensorboard<3,>=2.3.0->tensorflow) (1.0.0)\n",
      "Collecting markdown>=2.6.8\n",
      "  Using cached Markdown-3.3.3-py3-none-any.whl (96 kB)\n",
      "Requirement already satisfied: requests<3,>=2.21.0 in c:\\users\\alal8\\anaconda3\\lib\\site-packages (from tensorboard<3,>=2.3.0->tensorflow) (2.22.0)\n",
      "Collecting tensorboard-plugin-wit>=1.6.0\n",
      "  Using cached tensorboard_plugin_wit-1.7.0-py3-none-any.whl (779 kB)\n",
      "Collecting google-auth-oauthlib<0.5,>=0.4.1\n",
      "  Using cached google_auth_oauthlib-0.4.2-py2.py3-none-any.whl (18 kB)\n",
      "Requirement already satisfied: setuptools>=41.0.0 in c:\\users\\alal8\\anaconda3\\lib\\site-packages (from tensorboard<3,>=2.3.0->tensorflow) (45.2.0.post20200210)\n",
      "Collecting google-auth<2,>=1.6.3\n",
      "  Using cached google_auth-1.23.0-py2.py3-none-any.whl (114 kB)\n",
      "Requirement already satisfied: importlib-metadata; python_version < \"3.8\" in c:\\users\\alal8\\anaconda3\\lib\\site-packages (from markdown>=2.6.8->tensorboard<3,>=2.3.0->tensorflow) (2.0.0)\n",
      "Requirement already satisfied: urllib3!=1.25.0,!=1.25.1,<1.26,>=1.21.1 in c:\\users\\alal8\\anaconda3\\lib\\site-packages (from requests<3,>=2.21.0->tensorboard<3,>=2.3.0->tensorflow) (1.25.8)\n",
      "Requirement already satisfied: certifi>=2017.4.17 in c:\\users\\alal8\\anaconda3\\lib\\site-packages (from requests<3,>=2.21.0->tensorboard<3,>=2.3.0->tensorflow) (2020.6.20)\n",
      "Requirement already satisfied: chardet<3.1.0,>=3.0.2 in c:\\users\\alal8\\anaconda3\\lib\\site-packages (from requests<3,>=2.21.0->tensorboard<3,>=2.3.0->tensorflow) (3.0.4)\n",
      "Requirement already satisfied: idna<2.9,>=2.5 in c:\\users\\alal8\\anaconda3\\lib\\site-packages (from requests<3,>=2.21.0->tensorboard<3,>=2.3.0->tensorflow) (2.8)\n",
      "Requirement already satisfied: requests-oauthlib>=0.7.0 in c:\\users\\alal8\\anaconda3\\lib\\site-packages (from google-auth-oauthlib<0.5,>=0.4.1->tensorboard<3,>=2.3.0->tensorflow) (1.3.0)\n",
      "Collecting rsa<5,>=3.1.4; python_version >= \"3.5\"\n",
      "  Using cached rsa-4.6-py3-none-any.whl (47 kB)\n",
      "Collecting cachetools<5.0,>=2.0.0\n",
      "  Using cached cachetools-4.1.1-py3-none-any.whl (10 kB)\n",
      "Collecting pyasn1-modules>=0.2.1\n",
      "  Using cached pyasn1_modules-0.2.8-py2.py3-none-any.whl (155 kB)\n",
      "Requirement already satisfied: zipp>=0.5 in c:\\users\\alal8\\anaconda3\\lib\\site-packages (from importlib-metadata; python_version < \"3.8\"->markdown>=2.6.8->tensorboard<3,>=2.3.0->tensorflow) (2.2.0)\n",
      "Requirement already satisfied: oauthlib>=3.0.0 in c:\\users\\alal8\\anaconda3\\lib\\site-packages (from requests-oauthlib>=0.7.0->google-auth-oauthlib<0.5,>=0.4.1->tensorboard<3,>=2.3.0->tensorflow) (3.1.0)\n",
      "Collecting pyasn1>=0.1.3\n",
      "  Using cached pyasn1-0.4.8-py2.py3-none-any.whl (77 kB)\n",
      "Installing collected packages: termcolor, google-pasta, tensorflow-estimator, opt-einsum, grpcio, absl-py, markdown, tensorboard-plugin-wit, pyasn1, rsa, cachetools, pyasn1-modules, google-auth, google-auth-oauthlib, tensorboard, keras-preprocessing, tensorflow\n",
      "Successfully installed absl-py-0.11.0 cachetools-4.1.1 google-auth-1.23.0 google-auth-oauthlib-0.4.2 google-pasta-0.2.0 grpcio-1.34.0 keras-preprocessing-1.1.2 markdown-3.3.3 opt-einsum-3.3.0 pyasn1-0.4.8 pyasn1-modules-0.2.8 rsa-4.6 tensorboard-2.4.0 tensorboard-plugin-wit-1.7.0 tensorflow-2.3.1 tensorflow-estimator-2.3.0 termcolor-1.1.0\n"
     ]
    }
   ],
   "source": [
    "!pip install tensorflow"
   ]
  },
  {
   "cell_type": "code",
   "execution_count": 29,
   "metadata": {},
   "outputs": [],
   "source": [
    "from keras.preprocessing.text import Tokenizer \n",
    "max_words = 35000 \n",
    "tokenizer = Tokenizer(num_words = max_words) \n",
    "tokenizer.fit_on_texts(X_train) \n",
    "X_train = tokenizer.texts_to_sequences(X_train) \n",
    "X_test = tokenizer.texts_to_sequences(X_test)"
   ]
  },
  {
   "cell_type": "code",
   "execution_count": 30,
   "metadata": {},
   "outputs": [
    {
     "name": "stdout",
     "output_type": "stream",
     "text": [
      "제목의 최대 길이 :  20\n",
      "제목의 평균 길이 :  12.491836734693878\n"
     ]
    },
    {
     "data": {
      "image/png": "[encoded data removed]",
      "text/plain": [
       "<Figure size 432x288 with 1 Axes>"
      ]
     },
     "metadata": {
      "image/png": {
       "height": 261,
       "width": 382
      },
      "needs_background": "light"
     },
     "output_type": "display_data"
    }
   ],
   "source": [
    "print(\"제목의 최대 길이 : \", max(len(l) for l in X_train)) \n",
    "print(\"제목의 평균 길이 : \", sum(map(len, X_train))/ len(X_train)) \n",
    "plt.hist([len(s) for s in X_train], bins=50) \n",
    "plt.xlabel('length of Data') \n",
    "plt.ylabel('number of Data')\n",
    "plt.show()"
   ]
  },
  {
   "cell_type": "code",
   "execution_count": 31,
   "metadata": {},
   "outputs": [
    {
     "name": "stdout",
     "output_type": "stream",
     "text": [
      "제목의 최대 길이 :  17\n",
      "제목의 평균 길이 :  7.542857142857143\n"
     ]
    },
    {
     "data": {
      "image/png": "[encoded data removed]",
      "text/plain": [
       "<Figure size 432x288 with 1 Axes>"
      ]
     },
     "metadata": {
      "image/png": {
       "height": 261,
       "width": 382
      },
      "needs_background": "light"
     },
     "output_type": "display_data"
    }
   ],
   "source": [
    "print(\"제목의 최대 길이 : \", max(len(l) for l in X_test)) \n",
    "print(\"제목의 평균 길이 : \", sum(map(len, X_test))/ len(X_test)) \n",
    "plt.hist([len(s) for s in X_test], bins=50) \n",
    "plt.xlabel('length of Data') \n",
    "plt.ylabel('number of Data') \n",
    "plt.show()"
   ]
  },
  {
   "cell_type": "code",
   "execution_count": 32,
   "metadata": {},
   "outputs": [],
   "source": [
    "y_train = [] \n",
    "y_test = [] \n",
    "\n",
    "for i in range(len(train_data['label'])): \n",
    "    if train_data['label'].iloc[i] == 1: \n",
    "        y_train.append([0, 0, 1]) \n",
    "    elif train_data['label'].iloc[i] == 0: \n",
    "        y_train.append([0, 1, 0]) \n",
    "    elif train_data['label'].iloc[i] == -1: \n",
    "        y_train.append([1, 0, 0]) \n",
    "        \n",
    "for i in range(len(test_data['label'])): \n",
    "    if test_data['label'].iloc[i] == 1: \n",
    "        y_test.append([0, 0, 1]) \n",
    "    elif test_data['label'].iloc[i] == 0: \n",
    "        y_test.append([0, 1, 0]) \n",
    "    elif test_data['label'].iloc[i] == -1: \n",
    "        y_test.append([1, 0, 0]) \n",
    "        \n",
    "y_train = np.array(y_train) \n",
    "y_test = np.array(y_test)"
   ]
  },
  {
   "cell_type": "code",
   "execution_count": 33,
   "metadata": {},
   "outputs": [],
   "source": [
    "from keras.layers import Embedding, Dense, LSTM \n",
    "from keras.models import Sequential \n",
    "from keras.preprocessing.sequence import pad_sequences \n",
    "max_len = 20 # 전체 데이터의 길이를 20로 맞춘다 \n",
    "X_train = pad_sequences(X_train, maxlen=max_len) \n",
    "X_test = pad_sequences(X_test, maxlen=max_len)"
   ]
  },
  {
   "cell_type": "code",
   "execution_count": 34,
   "metadata": {},
   "outputs": [
    {
     "name": "stdout",
     "output_type": "stream",
     "text": [
      "Epoch 1/10\n",
      "45/45 [==============================] - 4s 92ms/step - loss: 0.7522 - accuracy: 0.5510 - val_loss: 0.7455 - val_accuracy: 0.4694\n",
      "Epoch 2/10\n",
      "45/45 [==============================] - 3s 70ms/step - loss: 0.5587 - accuracy: 0.7166 - val_loss: 0.6824 - val_accuracy: 0.5918\n",
      "Epoch 3/10\n",
      "45/45 [==============================] - 4s 88ms/step - loss: 0.2451 - accuracy: 0.9093 - val_loss: 0.9253 - val_accuracy: 0.6122\n",
      "Epoch 4/10\n",
      "45/45 [==============================] - 3s 73ms/step - loss: 0.1110 - accuracy: 0.9637 - val_loss: 0.6053 - val_accuracy: 0.7551\n",
      "Epoch 5/10\n",
      "45/45 [==============================] - 3s 65ms/step - loss: 0.0517 - accuracy: 0.9887 - val_loss: 0.7658 - val_accuracy: 0.7551\n",
      "Epoch 6/10\n",
      "45/45 [==============================] - 3s 66ms/step - loss: 0.0209 - accuracy: 0.9955 - val_loss: 1.3284 - val_accuracy: 0.7143\n",
      "Epoch 7/10\n",
      "45/45 [==============================] - 3s 68ms/step - loss: 0.0018 - accuracy: 1.0000 - val_loss: 2.8917 - val_accuracy: 0.7143\n",
      "Epoch 8/10\n",
      "45/45 [==============================] - 3s 68ms/step - loss: 0.0053 - accuracy: 1.0000 - val_loss: 1.7626 - val_accuracy: 0.7347\n",
      "Epoch 9/10\n",
      "45/45 [==============================] - 3s 67ms/step - loss: 0.0246 - accuracy: 0.9977 - val_loss: 1.0765 - val_accuracy: 0.7755\n",
      "Epoch 10/10\n",
      "45/45 [==============================] - 3s 68ms/step - loss: 2.8162e-04 - accuracy: 1.0000 - val_loss: 1.2317 - val_accuracy: 0.7755\n"
     ]
    }
   ],
   "source": [
    "model = Sequential() \n",
    "model.add(Embedding(max_words, 100)) \n",
    "model.add(LSTM(128)) \n",
    "model.add(Dense(3, activation='softmax'))\n",
    "\n",
    "model.compile(optimizer='rmsprop', loss='categorical_crossentropy', metrics=['accuracy']) \n",
    "history = model.fit(X_train, y_train, epochs=10, batch_size=10, validation_split=0.1)"
   ]
  },
  {
   "cell_type": "code",
   "execution_count": 35,
   "metadata": {},
   "outputs": [
    {
     "name": "stdout",
     "output_type": "stream",
     "text": [
      "16/16 [==============================] - 0s 6ms/step - loss: 1.0074 - accuracy: 0.7837\n",
      "\n",
      " 테스트 정확도 : 78.37\n"
     ]
    }
   ],
   "source": [
    "print(\"\\n 테스트 정확도 : {:.2f}\".format(model.evaluate(X_test, y_test)[1]*100))"
   ]
  },
  {
   "cell_type": "code",
   "execution_count": 36,
   "metadata": {},
   "outputs": [
    {
     "name": "stdout",
     "output_type": "stream",
     "text": [
      "Epoch 1/10\n",
      "45/45 [==============================] - 6s 135ms/step - loss: 0.7940 - accuracy: 0.5306 - val_loss: 0.7447 - val_accuracy: 0.4694\n",
      "Epoch 2/10\n",
      "45/45 [==============================] - 5s 114ms/step - loss: 0.6072 - accuracy: 0.6893 - val_loss: 0.6925 - val_accuracy: 0.5102\n",
      "Epoch 3/10\n",
      "45/45 [==============================] - 4s 91ms/step - loss: 0.2421 - accuracy: 0.9002 - val_loss: 0.4215 - val_accuracy: 0.7959\n",
      "Epoch 4/10\n",
      "45/45 [==============================] - 4s 93ms/step - loss: 0.0537 - accuracy: 0.9841 - val_loss: 0.4068 - val_accuracy: 0.8367\n",
      "Epoch 5/10\n",
      "45/45 [==============================] - 4s 85ms/step - loss: 0.0224 - accuracy: 0.9909 - val_loss: 0.4728 - val_accuracy: 0.7755\n",
      "Epoch 6/10\n",
      "45/45 [==============================] - 4s 87ms/step - loss: 0.0055 - accuracy: 1.0000 - val_loss: 0.5810 - val_accuracy: 0.7755\n",
      "Epoch 7/10\n",
      "45/45 [==============================] - 5s 106ms/step - loss: 0.0024 - accuracy: 1.0000 - val_loss: 0.5785 - val_accuracy: 0.7959\n",
      "Epoch 8/10\n",
      "45/45 [==============================] - 4s 86ms/step - loss: 8.1524e-04 - accuracy: 1.0000 - val_loss: 0.7055 - val_accuracy: 0.7755\n",
      "Epoch 9/10\n",
      "45/45 [==============================] - 5s 108ms/step - loss: 5.3044e-04 - accuracy: 1.0000 - val_loss: 0.7661 - val_accuracy: 0.7755\n",
      "Epoch 10/10\n",
      "45/45 [==============================] - 4s 92ms/step - loss: 4.1506e-04 - accuracy: 1.0000 - val_loss: 0.8278 - val_accuracy: 0.7959\n"
     ]
    }
   ],
   "source": [
    "model = Sequential() \n",
    "model.add(Embedding(max_words, 100)) \n",
    "model.add(LSTM(128)) \n",
    "model.add(Dense(3, activation='softmax'))\n",
    "\n",
    "model.compile(optimizer='adam', loss='categorical_crossentropy', metrics=['accuracy']) \n",
    "history = model.fit(X_train, y_train, epochs=10, batch_size=10, validation_split=0.1)"
   ]
  },
  {
   "cell_type": "code",
   "execution_count": 37,
   "metadata": {},
   "outputs": [
    {
     "name": "stdout",
     "output_type": "stream",
     "text": [
      "16/16 [==============================] - 0s 6ms/step - loss: 0.8863 - accuracy: 0.7816\n",
      "\n",
      " 테스트 정확도 : 78.16\n"
     ]
    }
   ],
   "source": [
    "print(\"\\n 테스트 정확도 : {:.2f}\".format(model.evaluate(X_test, y_test)[1]*100))"
   ]
  },
  {
   "cell_type": "code",
   "execution_count": 38,
   "metadata": {},
   "outputs": [],
   "source": [
    "predict = model.predict(X_test)"
   ]
  },
  {
   "cell_type": "code",
   "execution_count": 39,
   "metadata": {},
   "outputs": [],
   "source": [
    "predict_labels = np.argmax(predict, axis=1) \n",
    "original_labels = np.argmax(y_test, axis=1)"
   ]
  },
  {
   "cell_type": "code",
   "execution_count": 40,
   "metadata": {},
   "outputs": [
    {
     "name": "stdout",
     "output_type": "stream",
     "text": [
      "기사제목 :  한국금융지주 \"카카오뱅크 주식 247억원 추가 취득\" /\t 원래 라벨 :  0 /\t예측한 라벨 :  0\n",
      "기사제목 :  카카오게임즈 \"계열사 카카오브이엑스 주식 500억원에 추가취득\" /\t 원래 라벨 :  0 /\t예측한 라벨 :  0\n",
      "기사제목 :  카카오 주식 매수의견 유지, \"모빌리티와 일본 웹툰사업 호조 지속\" /\t 원래 라벨 :  2 /\t예측한 라벨 :  2\n",
      "기사제목 :  한국금융지주, 카카오뱅크 주식 104만 여주 취득 /\t 원래 라벨 :  0 /\t예측한 라벨 :  0\n",
      "기사제목 :  카카오 \"카카오뱅크 주식 1676억원에 추가취득\" /\t 원래 라벨 :  0 /\t예측한 라벨 :  0\n",
      "기사제목 :  카카오 \"카카오뱅크 주식 1천676억원에 추가취득\" /\t 원래 라벨 :  0 /\t예측한 라벨 :  0\n",
      "기사제목 :  카카오 \"카카오뱅크 주식 추가취득..주주배정 유상증자 참여\" /\t 원래 라벨 :  2 /\t예측한 라벨 :  0\n",
      "기사제목 :  카카오 주식 시장수익률 상회 유지, \"카카오톡 비즈보드 성장성 ... /\t 원래 라벨 :  2 /\t예측한 라벨 :  2\n",
      "기사제목 :  카카오게임즈 등 49곳 주식 이달 '의무보유 물량' 해제 /\t 원래 라벨 :  0 /\t예측한 라벨 :  0\n",
      "기사제목 :  [단독] 카카오페이증권, 국내 주식 '소수점매매' 도입 /\t 원래 라벨 :  0 /\t예측한 라벨 :  0\n",
      "기사제목 :  \"카카오 주식 풀린다\"..11월, 1억5642만주 의무보유 해제 /\t 원래 라벨 :  0 /\t예측한 라벨 :  0\n",
      "기사제목 :  [Who Is ?] 남궁훈 카카오게임즈 대표이사 /\t 원래 라벨 :  0 /\t예측한 라벨 :  0\n",
      "기사제목 :  [2020 BEST CEO] 카카오 ‘폭풍성장’ 기획자 김범수 의장 /\t 원래 라벨 :  2 /\t예측한 라벨 :  2\n",
      "기사제목 :  한국금융지주, 카카오뱅크에 1,700억 추가 투자 /\t 원래 라벨 :  0 /\t예측한 라벨 :  0\n",
      "기사제목 :  카카오, 카뱅 주식 713만주 추가 취득…지분율 31.8% /\t 원래 라벨 :  0 /\t예측한 라벨 :  0\n",
      "기사제목 :  [특징주] 한국금융지주, 카뱅 주식 추가 취득에 오름세 /\t 원래 라벨 :  0 /\t예측한 라벨 :  0\n",
      "기사제목 :  카카오게임즈 직원들 주식 평가익 160억 /\t 원래 라벨 :  0 /\t예측한 라벨 :  0\n",
      "기사제목 :  한국금융지주, 카카오뱅크에 246억 추가 투자 /\t 원래 라벨 :  0 /\t예측한 라벨 :  0\n",
      "기사제목 :  예스24, 카카오은행 주식 99억원에 추가취득 /\t 원래 라벨 :  0 /\t예측한 라벨 :  0\n",
      "기사제목 :  알톤스포츠 주식회사 카카오모빌리티와 42억원 계약체결 /\t 원래 라벨 :  0 /\t예측한 라벨 :  0\n",
      "기사제목 :  한국밸류 '공모대어' 카뱅 주식 더 산다..지분율 27.1% /\t 원래 라벨 :  0 /\t예측한 라벨 :  2\n",
      "기사제목 :  [아무튼, 주말] 아파트 못사주는데 주식이라도.. 10대 '주린이' ... /\t 원래 라벨 :  0 /\t예측한 라벨 :  0\n",
      "기사제목 :  카카오 주가 더 오르나?..'이것'만 보면 안다 /\t 원래 라벨 :  0 /\t예측한 라벨 :  0\n",
      "기사제목 :  4대 금융지주 맞먹는 카카오뱅크 몸값?..카카오게임즈 수순 밟을까 /\t 원래 라벨 :  0 /\t예측한 라벨 :  0\n",
      "기사제목 :  카카오 주가 상승 전망, “메신저 기반 광고와 상거래 매출 계속 ... /\t 원래 라벨 :  2 /\t예측한 라벨 :  2\n",
      "기사제목 :  한국금융지주, 카뱅 주식 추가 취득에 장 초반 강세 /\t 원래 라벨 :  2 /\t예측한 라벨 :  2\n",
      "기사제목 :  [CEO 보수列傳] 네이버보다 많이 주는 카카오? 앞으로 7년을 주목 /\t 원래 라벨 :  2 /\t예측한 라벨 :  2\n",
      "기사제목 :  [시그널] '카카오페이지와 합병 추진' 카카오엠, 직원에 93억 스... /\t 원래 라벨 :  0 /\t예측한 라벨 :  0\n",
      "기사제목 :  '신작 효과' 못누리는 카카오게임즈 /\t 원래 라벨 :  0 /\t예측한 라벨 :  0\n",
      "기사제목 :  [Y결산] 넷플릭스부터 카카오TV까지, 多채널 전쟁터 된 2020년 방... /\t 원래 라벨 :  0 /\t예측한 라벨 :  2\n"
     ]
    }
   ],
   "source": [
    "for i in range(30): \n",
    "    print(\"기사제목 : \", test_data['title'].iloc[i], \"/\\t 원래 라벨 : \", original_labels[i], \"/\\t예측한 라벨 : \", predict_labels[i])"
   ]
  },
  {
   "cell_type": "code",
   "execution_count": null,
   "metadata": {},
   "outputs": [],
   "source": []
  }
 ],
 "metadata": {
  "kernelspec": {
   "display_name": "Python 3",
   "language": "python",
   "name": "python3"
  },
  "language_info": {
   "codemirror_mode": {
    "name": "ipython",
    "version": 3
   },
   "file_extension": ".py",
   "mimetype": "text/x-python",
   "name": "python",
   "nbconvert_exporter": "python",
   "pygments_lexer": "ipython3",
   "version": "3.8.5"
  }
 },
 "nbformat": 4,
 "nbformat_minor": 4
}
