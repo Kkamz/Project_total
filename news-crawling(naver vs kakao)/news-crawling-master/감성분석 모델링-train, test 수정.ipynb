{
 "cells": [
  {
   "cell_type": "code",
   "execution_count": 1,
   "metadata": {},
   "outputs": [],
   "source": [
    "xlsx = pd.read_excel(\"daum(kakao+naver)+naver(kakao).xlsx\")\n",
    "xlsx.to_csv(\"daum(kakao+naver)+naver(kakao).csv\")"
   ]
  },
  {
   "cell_type": "code",
   "execution_count": 2,
   "metadata": {},
   "outputs": [],
   "source": [
    "xlsx = pd.read_excel(\"naverpo_naver.xlsx\")\n",
    "xlsx.to_csv(\"naverpo_naver.csv\")"
   ]
  },
  {
   "cell_type": "code",
   "execution_count": 3,
   "metadata": {},
   "outputs": [],
   "source": [
    "import pandas as pd \n",
    "train_data = pd.read_csv(\"daum(kakao+naver)+naver(kakao).csv\") \n",
    "test_data = pd.read_csv(\"naverpo_naver.csv\")"
   ]
  },
  {
   "cell_type": "code",
   "execution_count": 4,
   "metadata": {},
   "outputs": [],
   "source": [
    "%matplotlib inline \n",
    "import matplotlib.pyplot as plt"
   ]
  },
  {
   "cell_type": "code",
   "execution_count": 5,
   "metadata": {},
   "outputs": [
    {
     "data": {
      "text/plain": [
       "<matplotlib.axes._subplots.AxesSubplot at 0x29fe4c2ab48>"
      ]
     },
     "execution_count": 5,
     "metadata": {},
     "output_type": "execute_result"
    },
    {
     "data": {
      "image/png": "[encoded data removed]",
      "text/plain": [
       "<Figure size 432x288 with 1 Axes>"
      ]
     },
     "metadata": {
      "image/png": {
       "height": 248,
       "width": 375
      },
      "needs_background": "light"
     },
     "output_type": "display_data"
    }
   ],
   "source": [
    "train_data['label'].value_counts().plot(kind='bar')"
   ]
  },
  {
   "cell_type": "code",
   "execution_count": 6,
   "metadata": {},
   "outputs": [
    {
     "data": {
      "text/plain": [
       "<matplotlib.axes._subplots.AxesSubplot at 0x29fe4794a48>"
      ]
     },
     "execution_count": 6,
     "metadata": {},
     "output_type": "execute_result"
    },
    {
     "data": {
      "image/png": "[encoded data removed]",
      "text/plain": [
       "<Figure size 432x288 with 1 Axes>"
      ]
     },
     "metadata": {
      "image/png": {
       "height": 248,
       "width": 375
      },
      "needs_background": "light"
     },
     "output_type": "display_data"
    }
   ],
   "source": [
    "test_data['label'].value_counts().plot(kind='bar')"
   ]
  },
  {
   "cell_type": "code",
   "execution_count": 7,
   "metadata": {},
   "outputs": [
    {
     "name": "stdout",
     "output_type": "stream",
     "text": [
      "   label  count\n",
      "0     -1    788\n",
      "1      1    852\n",
      "   label  count\n",
      "0     -1    135\n",
      "1      1    147\n"
     ]
    }
   ],
   "source": [
    "print(train_data.groupby('label').size().reset_index(name='count')) \n",
    "print(test_data.groupby('label').size().reset_index(name='count'))"
   ]
  },
  {
   "cell_type": "code",
   "execution_count": 8,
   "metadata": {},
   "outputs": [],
   "source": [
    "stopwords = ['의', '가', '이', '은', '들', '는', '좀', '잘', '걍',\n",
    "             '과', '도', '를', '으로', '자', '에', '와', '한', '하다',',','...','..','.',\"'\",'?','\"','!','.']"
   ]
  },
  {
   "cell_type": "code",
   "execution_count": 9,
   "metadata": {},
   "outputs": [],
   "source": [
    "import konlpy \n",
    "from konlpy.tag import Okt \n",
    "okt = Okt() \n",
    "X_train = [] \n",
    "for sentence in train_data['title']:\n",
    "    temp_X = [] \n",
    "    temp_X = okt.morphs(sentence, stem=True) # 토큰화 \n",
    "    temp_X = [word for word in temp_X if not word in stopwords] # 불용어 제거 \n",
    "    X_train.append(temp_X) \n",
    "    \n",
    "X_test = [] \n",
    "for sentence in test_data['title']: \n",
    "    temp_X = [] \n",
    "    temp_X = okt.morphs(sentence, stem=True) # 토큰화 \n",
    "    temp_X = [word for word in temp_X if not word in stopwords] # 불용어 제거 \n",
    "    X_test.append(temp_X)"
   ]
  },
  {
   "cell_type": "code",
   "execution_count": 10,
   "metadata": {
    "scrolled": true
   },
   "outputs": [
    {
     "name": "stdout",
     "output_type": "stream",
     "text": [
      "[['카카오', '주가', '더', '오르다', \"?…'\", '것', '만', '보다', '안다'], ['[', '오늘', '목표', '주가', ']', '삼성', 'SDI', '·', '천보', '·', '씨', '에스', '윈드', '·', '카카오', '목표', '주가', '↑'], ['카카오', '최대', '매출', '주가', '호조', \"'…\", '증권', '목표', '주가', '상향']]\n"
     ]
    }
   ],
   "source": [
    "print(X_train[:3])"
   ]
  },
  {
   "cell_type": "code",
   "execution_count": 15,
   "metadata": {
    "scrolled": false
   },
   "outputs": [
    {
     "name": "stdout",
     "output_type": "stream",
     "text": [
      "Collecting keras\n",
      "  Downloading Keras-2.4.3-py2.py3-none-any.whl (36 kB)\n",
      "Requirement already satisfied: pyyaml in c:\\users\\alal8\\anaconda3\\lib\\site-packages (from keras) (5.3)\n",
      "Requirement already satisfied: scipy>=0.14 in c:\\users\\alal8\\anaconda3\\lib\\site-packages (from keras) (1.5.4)\n",
      "Requirement already satisfied: h5py in c:\\users\\alal8\\anaconda3\\lib\\site-packages (from keras) (2.10.0)\n",
      "Requirement already satisfied: numpy>=1.9.1 in c:\\users\\alal8\\anaconda3\\lib\\site-packages (from keras) (1.19.4)\n",
      "Requirement already satisfied: six in c:\\users\\alal8\\anaconda3\\lib\\site-packages (from h5py->keras) (1.14.0)\n",
      "Installing collected packages: keras\n",
      "Successfully installed keras-2.4.3\n"
     ]
    }
   ],
   "source": [
    "!pip install keras"
   ]
  },
  {
   "cell_type": "code",
   "execution_count": 28,
   "metadata": {},
   "outputs": [
    {
     "name": "stdout",
     "output_type": "stream",
     "text": [
      "Collecting tensorflow\n",
      "  Using cached tensorflow-2.3.1-cp37-cp37m-win_amd64.whl (342.5 MB)\n",
      "Processing c:\\users\\alal8\\appdata\\local\\pip\\cache\\wheels\\3f\\e3\\ec\\8a8336ff196023622fbcb36de0c5a5c218cbb24111d1d4c7f2\\termcolor-1.1.0-py3-none-any.whl\n",
      "Collecting google-pasta>=0.1.8\n",
      "  Using cached google_pasta-0.2.0-py3-none-any.whl (57 kB)\n",
      "Collecting tensorflow-estimator<2.4.0,>=2.3.0\n",
      "  Using cached tensorflow_estimator-2.3.0-py2.py3-none-any.whl (459 kB)\n",
      "Requirement already satisfied: astunparse==1.6.3 in c:\\users\\alal8\\anaconda3\\lib\\site-packages (from tensorflow) (1.6.3)\n",
      "Requirement already satisfied: h5py<2.11.0,>=2.10.0 in c:\\users\\alal8\\anaconda3\\lib\\site-packages (from tensorflow) (2.10.0)\n",
      "Collecting opt-einsum>=2.3.2\n",
      "  Using cached opt_einsum-3.3.0-py3-none-any.whl (65 kB)\n",
      "Requirement already satisfied: gast==0.3.3 in c:\\users\\alal8\\anaconda3\\lib\\site-packages (from tensorflow) (0.3.3)\n",
      "Requirement already satisfied: six>=1.12.0 in c:\\users\\alal8\\anaconda3\\lib\\site-packages (from tensorflow) (1.14.0)\n",
      "Collecting grpcio>=1.8.6\n",
      "  Using cached grpcio-1.34.0-cp37-cp37m-win_amd64.whl (2.9 MB)\n",
      "Requirement already satisfied: wrapt>=1.11.1 in c:\\users\\alal8\\anaconda3\\lib\\site-packages (from tensorflow) (1.11.2)\n",
      "Requirement already satisfied: wheel>=0.26 in c:\\users\\alal8\\anaconda3\\lib\\site-packages (from tensorflow) (0.34.2)\n",
      "Collecting absl-py>=0.7.0\n",
      "  Using cached absl_py-0.11.0-py3-none-any.whl (127 kB)\n",
      "Requirement already satisfied: numpy<1.19.0,>=1.16.0 in c:\\users\\alal8\\anaconda3\\lib\\site-packages (from tensorflow) (1.18.5)\n",
      "Requirement already satisfied: protobuf>=3.9.2 in c:\\users\\alal8\\anaconda3\\lib\\site-packages (from tensorflow) (3.14.0)\n",
      "Collecting tensorboard<3,>=2.3.0\n",
      "  Using cached tensorboard-2.4.0-py3-none-any.whl (10.6 MB)\n",
      "Collecting keras-preprocessing<1.2,>=1.1.1\n",
      "  Using cached Keras_Preprocessing-1.1.2-py2.py3-none-any.whl (42 kB)\n",
      "Requirement already satisfied: werkzeug>=0.11.15 in c:\\users\\alal8\\anaconda3\\lib\\site-packages (from tensorboard<3,>=2.3.0->tensorflow) (1.0.0)\n",
      "Collecting markdown>=2.6.8\n",
      "  Using cached Markdown-3.3.3-py3-none-any.whl (96 kB)\n",
      "Requirement already satisfied: requests<3,>=2.21.0 in c:\\users\\alal8\\anaconda3\\lib\\site-packages (from tensorboard<3,>=2.3.0->tensorflow) (2.22.0)\n",
      "Collecting tensorboard-plugin-wit>=1.6.0\n",
      "  Using cached tensorboard_plugin_wit-1.7.0-py3-none-any.whl (779 kB)\n",
      "Collecting google-auth-oauthlib<0.5,>=0.4.1\n",
      "  Using cached google_auth_oauthlib-0.4.2-py2.py3-none-any.whl (18 kB)\n",
      "Requirement already satisfied: setuptools>=41.0.0 in c:\\users\\alal8\\anaconda3\\lib\\site-packages (from tensorboard<3,>=2.3.0->tensorflow) (45.2.0.post20200210)\n",
      "Collecting google-auth<2,>=1.6.3\n",
      "  Using cached google_auth-1.23.0-py2.py3-none-any.whl (114 kB)\n",
      "Requirement already satisfied: importlib-metadata; python_version < \"3.8\" in c:\\users\\alal8\\anaconda3\\lib\\site-packages (from markdown>=2.6.8->tensorboard<3,>=2.3.0->tensorflow) (2.0.0)\n",
      "Requirement already satisfied: urllib3!=1.25.0,!=1.25.1,<1.26,>=1.21.1 in c:\\users\\alal8\\anaconda3\\lib\\site-packages (from requests<3,>=2.21.0->tensorboard<3,>=2.3.0->tensorflow) (1.25.8)\n",
      "Requirement already satisfied: certifi>=2017.4.17 in c:\\users\\alal8\\anaconda3\\lib\\site-packages (from requests<3,>=2.21.0->tensorboard<3,>=2.3.0->tensorflow) (2020.6.20)\n",
      "Requirement already satisfied: chardet<3.1.0,>=3.0.2 in c:\\users\\alal8\\anaconda3\\lib\\site-packages (from requests<3,>=2.21.0->tensorboard<3,>=2.3.0->tensorflow) (3.0.4)\n",
      "Requirement already satisfied: idna<2.9,>=2.5 in c:\\users\\alal8\\anaconda3\\lib\\site-packages (from requests<3,>=2.21.0->tensorboard<3,>=2.3.0->tensorflow) (2.8)\n",
      "Requirement already satisfied: requests-oauthlib>=0.7.0 in c:\\users\\alal8\\anaconda3\\lib\\site-packages (from google-auth-oauthlib<0.5,>=0.4.1->tensorboard<3,>=2.3.0->tensorflow) (1.3.0)\n",
      "Collecting rsa<5,>=3.1.4; python_version >= \"3.5\"\n",
      "  Using cached rsa-4.6-py3-none-any.whl (47 kB)\n",
      "Collecting cachetools<5.0,>=2.0.0\n",
      "  Using cached cachetools-4.1.1-py3-none-any.whl (10 kB)\n",
      "Collecting pyasn1-modules>=0.2.1\n",
      "  Using cached pyasn1_modules-0.2.8-py2.py3-none-any.whl (155 kB)\n",
      "Requirement already satisfied: zipp>=0.5 in c:\\users\\alal8\\anaconda3\\lib\\site-packages (from importlib-metadata; python_version < \"3.8\"->markdown>=2.6.8->tensorboard<3,>=2.3.0->tensorflow) (2.2.0)\n",
      "Requirement already satisfied: oauthlib>=3.0.0 in c:\\users\\alal8\\anaconda3\\lib\\site-packages (from requests-oauthlib>=0.7.0->google-auth-oauthlib<0.5,>=0.4.1->tensorboard<3,>=2.3.0->tensorflow) (3.1.0)\n",
      "Collecting pyasn1>=0.1.3\n",
      "  Using cached pyasn1-0.4.8-py2.py3-none-any.whl (77 kB)\n",
      "Installing collected packages: termcolor, google-pasta, tensorflow-estimator, opt-einsum, grpcio, absl-py, markdown, tensorboard-plugin-wit, pyasn1, rsa, cachetools, pyasn1-modules, google-auth, google-auth-oauthlib, tensorboard, keras-preprocessing, tensorflow\n",
      "Successfully installed absl-py-0.11.0 cachetools-4.1.1 google-auth-1.23.0 google-auth-oauthlib-0.4.2 google-pasta-0.2.0 grpcio-1.34.0 keras-preprocessing-1.1.2 markdown-3.3.3 opt-einsum-3.3.0 pyasn1-0.4.8 pyasn1-modules-0.2.8 rsa-4.6 tensorboard-2.4.0 tensorboard-plugin-wit-1.7.0 tensorflow-2.3.1 tensorflow-estimator-2.3.0 termcolor-1.1.0\n"
     ]
    }
   ],
   "source": [
    "!pip install tensorflow"
   ]
  },
  {
   "cell_type": "code",
   "execution_count": 11,
   "metadata": {},
   "outputs": [],
   "source": [
    "from keras.preprocessing.text import Tokenizer \n",
    "max_words = 35000 \n",
    "tokenizer = Tokenizer(num_words = max_words) \n",
    "tokenizer.fit_on_texts(X_train) \n",
    "X_train = tokenizer.texts_to_sequences(X_train) \n",
    "X_test = tokenizer.texts_to_sequences(X_test)"
   ]
  },
  {
   "cell_type": "code",
   "execution_count": 12,
   "metadata": {},
   "outputs": [
    {
     "name": "stdout",
     "output_type": "stream",
     "text": [
      "제목의 최대 길이 :  22\n",
      "제목의 평균 길이 :  11.553658536585365\n"
     ]
    },
    {
     "data": {
      "image/png": "[encoded data removed]",
      "text/plain": [
       "<Figure size 432x288 with 1 Axes>"
      ]
     },
     "metadata": {
      "image/png": {
       "height": 261,
       "width": 392
      },
      "needs_background": "light"
     },
     "output_type": "display_data"
    }
   ],
   "source": [
    "print(\"제목의 최대 길이 : \", max(len(l) for l in X_train)) \n",
    "print(\"제목의 평균 길이 : \", sum(map(len, X_train))/ len(X_train)) \n",
    "plt.hist([len(s) for s in X_train], bins=50) \n",
    "plt.xlabel('length of Data') \n",
    "plt.ylabel('number of Data')\n",
    "plt.show()"
   ]
  },
  {
   "cell_type": "code",
   "execution_count": 13,
   "metadata": {},
   "outputs": [
    {
     "name": "stdout",
     "output_type": "stream",
     "text": [
      "제목의 최대 길이 :  25\n",
      "제목의 평균 길이 :  9.453900709219859\n"
     ]
    },
    {
     "data": {
      "image/png": "[encoded data removed]",
      "text/plain": [
       "<Figure size 432x288 with 1 Axes>"
      ]
     },
     "metadata": {
      "image/png": {
       "height": 261,
       "width": 382
      },
      "needs_background": "light"
     },
     "output_type": "display_data"
    }
   ],
   "source": [
    "print(\"제목의 최대 길이 : \", max(len(l) for l in X_test)) \n",
    "print(\"제목의 평균 길이 : \", sum(map(len, X_test))/ len(X_test)) \n",
    "plt.hist([len(s) for s in X_test], bins=50) \n",
    "plt.xlabel('length of Data') \n",
    "plt.ylabel('number of Data') \n",
    "plt.show()"
   ]
  },
  {
   "cell_type": "code",
   "execution_count": 14,
   "metadata": {},
   "outputs": [],
   "source": [
    "y_train = [] \n",
    "y_test = [] \n",
    "\n",
    "for i in range(len(train_data['label'])): \n",
    "    if train_data['label'].iloc[i] == 1: \n",
    "        y_train.append([0, 0, 1]) \n",
    "    elif train_data['label'].iloc[i] == 0: \n",
    "        y_train.append([0, 1, 0]) \n",
    "    elif train_data['label'].iloc[i] == -1: \n",
    "        y_train.append([1, 0, 0]) \n",
    "        \n",
    "for i in range(len(test_data['label'])): \n",
    "    if test_data['label'].iloc[i] == 1: \n",
    "        y_test.append([0, 0, 1]) \n",
    "    elif test_data['label'].iloc[i] == 0: \n",
    "        y_test.append([0, 1, 0]) \n",
    "    elif test_data['label'].iloc[i] == -1: \n",
    "        y_test.append([1, 0, 0]) \n",
    "        \n",
    "y_train = np.array(y_train) \n",
    "y_test = np.array(y_test)"
   ]
  },
  {
   "cell_type": "code",
   "execution_count": 15,
   "metadata": {},
   "outputs": [],
   "source": [
    "from keras.layers import Embedding, Dense, LSTM \n",
    "from keras.models import Sequential \n",
    "from keras.preprocessing.sequence import pad_sequences \n",
    "max_len = 20 # 전체 데이터의 길이를 20로 맞춘다 \n",
    "X_train = pad_sequences(X_train, maxlen=max_len) \n",
    "X_test = pad_sequences(X_test, maxlen=max_len)"
   ]
  },
  {
   "cell_type": "code",
   "execution_count": 16,
   "metadata": {},
   "outputs": [
    {
     "name": "stdout",
     "output_type": "stream",
     "text": [
      "Epoch 1/10\n",
      "148/148 [==============================] - 6s 41ms/step - loss: 0.6320 - accuracy: 0.6443 - val_loss: 0.4942 - val_accuracy: 0.7927\n",
      "Epoch 2/10\n",
      "148/148 [==============================] - 6s 40ms/step - loss: 0.2486 - accuracy: 0.9011 - val_loss: 0.4468 - val_accuracy: 0.8415\n",
      "Epoch 3/10\n",
      "148/148 [==============================] - 6s 39ms/step - loss: 0.1094 - accuracy: 0.9627 - val_loss: 0.4376 - val_accuracy: 0.8841\n",
      "Epoch 4/10\n",
      "148/148 [==============================] - 7s 50ms/step - loss: 0.0613 - accuracy: 0.9736 - val_loss: 0.6614 - val_accuracy: 0.8659\n",
      "Epoch 5/10\n",
      "148/148 [==============================] - 9s 64ms/step - loss: 0.0324 - accuracy: 0.9878 - val_loss: 0.6136 - val_accuracy: 0.8841\n",
      "Epoch 6/10\n",
      "148/148 [==============================] - 11s 71ms/step - loss: 0.0305 - accuracy: 0.9898 - val_loss: 0.7941 - val_accuracy: 0.8598\n",
      "Epoch 7/10\n",
      "148/148 [==============================] - 9s 61ms/step - loss: 0.0099 - accuracy: 0.9973 - val_loss: 0.8476 - val_accuracy: 0.8720\n",
      "Epoch 8/10\n",
      "148/148 [==============================] - 9s 62ms/step - loss: 0.0114 - accuracy: 0.9959 - val_loss: 0.9244 - val_accuracy: 0.8780\n",
      "Epoch 9/10\n",
      "148/148 [==============================] - 9s 64ms/step - loss: 0.0035 - accuracy: 0.9986 - val_loss: 1.3832 - val_accuracy: 0.8659\n",
      "Epoch 10/10\n",
      "148/148 [==============================] - 9s 62ms/step - loss: 2.2366e-04 - accuracy: 1.0000 - val_loss: 1.1236 - val_accuracy: 0.9085\n"
     ]
    }
   ],
   "source": [
    "model = Sequential() \n",
    "model.add(Embedding(max_words, 100)) \n",
    "model.add(LSTM(128)) \n",
    "model.add(Dense(3, activation='softmax'))\n",
    "\n",
    "model.compile(optimizer='rmsprop', loss='categorical_crossentropy', metrics=['accuracy']) \n",
    "history = model.fit(X_train, y_train, epochs=10, batch_size=10, validation_split=0.1)"
   ]
  },
  {
   "cell_type": "code",
   "execution_count": 17,
   "metadata": {},
   "outputs": [
    {
     "name": "stdout",
     "output_type": "stream",
     "text": [
      "9/9 [==============================] - 0s 7ms/step - loss: 0.9045 - accuracy: 0.9007\n",
      "\n",
      " 테스트 정확도 : 90.07\n"
     ]
    }
   ],
   "source": [
    "print(\"\\n 테스트 정확도 : {:.2f}\".format(model.evaluate(X_test, y_test)[1]*100))"
   ]
  },
  {
   "cell_type": "code",
   "execution_count": 18,
   "metadata": {},
   "outputs": [
    {
     "name": "stdout",
     "output_type": "stream",
     "text": [
      "Epoch 1/10\n",
      "148/148 [==============================] - 6s 44ms/step - loss: 0.6477 - accuracy: 0.6220 - val_loss: 0.4388 - val_accuracy: 0.8171\n",
      "Epoch 2/10\n",
      "148/148 [==============================] - 8s 53ms/step - loss: 0.1975 - accuracy: 0.9289 - val_loss: 0.3457 - val_accuracy: 0.8720\n",
      "Epoch 3/10\n",
      "148/148 [==============================] - 11s 78ms/step - loss: 0.0363 - accuracy: 0.9912 - val_loss: 0.3846 - val_accuracy: 0.8963\n",
      "Epoch 4/10\n",
      "148/148 [==============================] - 15s 99ms/step - loss: 0.0136 - accuracy: 0.9973 - val_loss: 0.4733 - val_accuracy: 0.8659\n",
      "Epoch 5/10\n",
      "148/148 [==============================] - 13s 85ms/step - loss: 0.0017 - accuracy: 1.0000 - val_loss: 0.5514 - val_accuracy: 0.8963\n",
      "Epoch 6/10\n",
      "148/148 [==============================] - 13s 86ms/step - loss: 5.6159e-04 - accuracy: 1.0000 - val_loss: 0.6570 - val_accuracy: 0.8780\n",
      "Epoch 7/10\n",
      "148/148 [==============================] - 14s 95ms/step - loss: 3.5219e-04 - accuracy: 1.0000 - val_loss: 0.6874 - val_accuracy: 0.8780\n",
      "Epoch 8/10\n",
      "148/148 [==============================] - 13s 87ms/step - loss: 2.4065e-04 - accuracy: 1.0000 - val_loss: 0.7079 - val_accuracy: 0.8841\n",
      "Epoch 9/10\n",
      "148/148 [==============================] - 13s 88ms/step - loss: 1.7649e-04 - accuracy: 1.0000 - val_loss: 0.7334 - val_accuracy: 0.8841\n",
      "Epoch 10/10\n",
      "148/148 [==============================] - 12s 81ms/step - loss: 1.3496e-04 - accuracy: 1.0000 - val_loss: 0.7786 - val_accuracy: 0.8659\n"
     ]
    }
   ],
   "source": [
    "model = Sequential() \n",
    "model.add(Embedding(max_words, 100)) \n",
    "model.add(LSTM(128)) \n",
    "model.add(Dense(3, activation='softmax'))\n",
    "\n",
    "model.compile(optimizer='adam', loss='categorical_crossentropy', metrics=['accuracy']) \n",
    "history = model.fit(X_train, y_train, epochs=10, batch_size=10, validation_split=0.1)"
   ]
  },
  {
   "cell_type": "code",
   "execution_count": 19,
   "metadata": {},
   "outputs": [
    {
     "name": "stdout",
     "output_type": "stream",
     "text": [
      "9/9 [==============================] - 0s 7ms/step - loss: 0.5654 - accuracy: 0.8830\n",
      "\n",
      " 테스트 정확도 : 88.30\n"
     ]
    }
   ],
   "source": [
    "print(\"\\n 테스트 정확도 : {:.2f}\".format(model.evaluate(X_test, y_test)[1]*100))"
   ]
  },
  {
   "cell_type": "code",
   "execution_count": 20,
   "metadata": {},
   "outputs": [],
   "source": [
    "predict = model.predict(X_test)"
   ]
  },
  {
   "cell_type": "code",
   "execution_count": 21,
   "metadata": {},
   "outputs": [],
   "source": [
    "predict_labels = np.argmax(predict, axis=1) \n",
    "original_labels = np.argmax(y_test, axis=1)"
   ]
  },
  {
   "cell_type": "code",
   "execution_count": 22,
   "metadata": {},
   "outputs": [
    {
     "name": "stdout",
     "output_type": "stream",
     "text": [
      "기사제목 :  ‘손잡은 포식자들’ CJ-네이버, 주가도 승자 독식? /\t 원래 라벨 :  0 /\t예측한 라벨 :  0\n",
      "기사제목 :  CJ·네이버 약점 보완…주가 중장기 긍정적 /\t 원래 라벨 :  2 /\t예측한 라벨 :  2\n",
      "기사제목 :  한 배를 탄 네이버·CJ, 주가는 엇갈렸다 /\t 원래 라벨 :  2 /\t예측한 라벨 :  2\n",
      "기사제목 :  “테슬라 주가 네이버에서 확인하자”···모바일 증권 ‘해외 종목’ 서비스 시작 /\t 원래 라벨 :  0 /\t예측한 라벨 :  2\n",
      "기사제목 :  테슬라 주가는?…네이버증권, 해외 주식 정보 모바일 서비스 시작 /\t 원래 라벨 :  0 /\t예측한 라벨 :  2\n",
      "기사제목 :  \"테슬라 주가, 네이버 모바일서도 뜬다\"…해외 5개국 주식 서비스 개시 /\t 원래 라벨 :  0 /\t예측한 라벨 :  2\n",
      "기사제목 :  '주가 더블' 네이버·카카오, 지금 사도 될까[머니뭐니] /\t 원래 라벨 :  0 /\t예측한 라벨 :  0\n",
      "기사제목 :  네이버 주가 더 오른다? 내일 뚜껑 여는 실적보다 중요한 것 /\t 원래 라벨 :  2 /\t예측한 라벨 :  0\n",
      "기사제목 :  “네이버, 주가 상승에도 성장성 돋보여... 목표가 ↑” /\t 원래 라벨 :  2 /\t예측한 라벨 :  2\n",
      "기사제목 :  ‘코로나19 재유행’ 국민은 ‘불안감’, 네이버·카카오 주가는 ‘기대감’ /\t 원래 라벨 :  2 /\t예측한 라벨 :  2\n",
      "기사제목 :  배상면주가 포천LB, 네이버 라이브 커머스로 천연 강스파클링 막걸리 ‘아띠’ 출시 /\t 원래 라벨 :  2 /\t예측한 라벨 :  0\n",
      "기사제목 :  네이버, 목표주가 33만원까지 등장…\"더 간다\" /\t 원래 라벨 :  0 /\t예측한 라벨 :  0\n",
      "기사제목 :  [단독] 네이버 ‘환산주가’ 첫 1000만원 돌파… 산업구조 변화 ‘실감’ /\t 원래 라벨 :  2 /\t예측한 라벨 :  2\n",
      "기사제목 :  네이버보다 목표주가 높아진 카카오 /\t 원래 라벨 :  2 /\t예측한 라벨 :  2\n",
      "기사제목 :  “28만원까지 간다”…네이버보다 목표주가 높아진 카카오 /\t 원래 라벨 :  2 /\t예측한 라벨 :  2\n",
      "기사제목 :  \"10개월새 2배\"…네이버 주가 '파죽지세' /\t 원래 라벨 :  2 /\t예측한 라벨 :  2\n",
      "기사제목 :  코로나가 대수냐…거침없는 네이버·카카오, 주가도 연고점 /\t 원래 라벨 :  2 /\t예측한 라벨 :  2\n",
      "기사제목 :  네이버, 사상 최고 주가에도 상승 여력 충분…목표가↑ -한화 /\t 원래 라벨 :  2 /\t예측한 라벨 :  2\n",
      "기사제목 :  네이버 주가 ‘파죽지세’ 연일 사상 최고가 경신 /\t 원래 라벨 :  2 /\t예측한 라벨 :  2\n",
      "기사제목 :  네이버의 파죽지세…주가 사상 최고가 경신 /\t 원래 라벨 :  2 /\t예측한 라벨 :  2\n",
      "기사제목 :  환산주가 1위 네이버, 언택트 바람 타고 ‘황제주’ 독주 /\t 원래 라벨 :  2 /\t예측한 라벨 :  0\n",
      "기사제목 :  ‘언택트 수혜주’ 증명한 네이버…목표주가 줄상향 /\t 원래 라벨 :  2 /\t예측한 라벨 :  2\n",
      "기사제목 :  '언택트 수혜주' 증명한 네이버…목표주가 상향 러시 /\t 원래 라벨 :  2 /\t예측한 라벨 :  2\n",
      "기사제목 :  “네이버 성장성 확대…주가 더 오른다” /\t 원래 라벨 :  2 /\t예측한 라벨 :  2\n",
      "기사제목 :  '新금융 강자' 네이버 vs 카카오, 주가 경쟁도 치열 /\t 원래 라벨 :  0 /\t예측한 라벨 :  0\n",
      "기사제목 :  삼성전자·네이버…외국인, 주가 하락해도 우량주는 안팔았다 /\t 원래 라벨 :  0 /\t예측한 라벨 :  0\n",
      "기사제목 :  10년간 40배 오른 넷플릭스 주가...네이버는 3배 올랐다 /\t 원래 라벨 :  2 /\t예측한 라벨 :  2\n",
      "기사제목 :  증권가, 이해진-손정의 '빅딜'에 네이버 목표주가 잇따라 상향 /\t 원래 라벨 :  2 /\t예측한 라벨 :  2\n",
      "기사제목 :  증권가, 네이버 목표주가 상향 “최고가 기록 깰 수도” /\t 원래 라벨 :  2 /\t예측한 라벨 :  2\n",
      "기사제목 :  라인 야후 통합에 네이버 목표주가 ‘상향 러시’ /\t 원래 라벨 :  2 /\t예측한 라벨 :  2\n"
     ]
    }
   ],
   "source": [
    "for i in range(30): \n",
    "    print(\"기사제목 : \", test_data['title'].iloc[i], \"/\\t 원래 라벨 : \", original_labels[i], \"/\\t예측한 라벨 : \", predict_labels[i])"
   ]
  },
  {
   "cell_type": "code",
   "execution_count": null,
   "metadata": {},
   "outputs": [],
   "source": []
  }
 ],
 "metadata": {
  "kernelspec": {
   "display_name": "Python 3",
   "language": "python",
   "name": "python3"
  },
  "language_info": {
   "codemirror_mode": {
    "name": "ipython",
    "version": 3
   },
   "file_extension": ".py",
   "mimetype": "text/x-python",
   "name": "python",
   "nbconvert_exporter": "python",
   "pygments_lexer": "ipython3",
   "version": "3.7.6"
  }
 },
 "nbformat": 4,
 "nbformat_minor": 4
}
