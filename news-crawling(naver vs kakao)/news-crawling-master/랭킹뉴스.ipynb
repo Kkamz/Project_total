{
 "cells": [
  {
   "cell_type": "code",
   "execution_count": 1,
   "metadata": {},
   "outputs": [],
   "source": [
    "url = 'https://news.daum.net/ranking/'\n",
    "\n",
    "import requests\n",
    "from urllib import parse\n",
    "from bs4 import BeautifulSoup\n",
    "import pandas as pd\n",
    "from datetime import datetime\n",
    "\n",
    "\n",
    "def get_daum_ranking_news(type = 'popular'):\n",
    "    base_url = 'https://news.daum.net/ranking/'\n",
    "    url = parse.urljoin(base_url, type)\n",
    "    res = requests.get(url)\n",
    "    if res.status_code == 200:\n",
    "        soup = BeautifulSoup(res.text)\n",
    "        news_list = soup.select('ul.list_news2 div.cont_thumb')\n",
    "        content_list = [] #조회한 내용(50개뉴스)를 저장할 리스트(링크, 제목, 신문사, 요약)\n",
    "        for news in news_list:\n",
    "            link = news.select_one('strong > a').get('href')\n",
    "            title = news.select_one('strong > a').text.strip()\n",
    "            newspaper = news.select_one('strong > span').text.strip()\n",
    "            summary = news.select_one('div.desc_thumb > span.link_txt').text\n",
    "            content_list.append([link, title, newspaper, summary])\n",
    "\n",
    "        filename = \"{}_{}_news_list.csv\".format(type, datetime.now().strftime('%Y-%m-%d'))\n",
    "        df = pd.DataFrame(content_list,columns=['link','title','newspaper','summary'])\n",
    "        df.to_csv(filename, index=False, encoding='UTF_8')\n",
    "    else:\n",
    "        raise Exception('sorry')"
   ]
  },
  {
   "cell_type": "code",
   "execution_count": 2,
   "metadata": {},
   "outputs": [
    {
     "name": "stderr",
     "output_type": "stream",
     "text": [
      "C:\\Users\\alal8\\anaconda3\\lib\\site-packages\\bs4\\__init__.py:181: UserWarning: No parser was explicitly specified, so I'm using the best available HTML parser for this system (\"lxml\"). This usually isn't a problem, but if you run this code on another system, or in a different virtual environment, it may use a different parser and behave differently.\n",
      "\n",
      "The code that caused this warning is on line 193 of the file C:\\Users\\alal8\\anaconda3\\lib\\runpy.py. To get rid of this warning, change code that looks like this:\n",
      "\n",
      " BeautifulSoup(YOUR_MARKUP})\n",
      "\n",
      "to this:\n",
      "\n",
      " BeautifulSoup(YOUR_MARKUP, \"lxml\")\n",
      "\n",
      "  markup_type=markup_type))\n"
     ]
    }
   ],
   "source": [
    "get_daum_ranking_news('kkomkkom')"
   ]
  },
  {
   "cell_type": "code",
   "execution_count": 3,
   "metadata": {},
   "outputs": [],
   "source": [
    "get_daum_ranking_news('bestreply')"
   ]
  },
  {
   "cell_type": "code",
   "execution_count": 4,
   "metadata": {},
   "outputs": [],
   "source": [
    "get_daum_ranking_news('popular')"
   ]
  },
  {
   "cell_type": "code",
   "execution_count": 7,
   "metadata": {},
   "outputs": [
    {
     "data": {
      "text/html": [
       "<div>\n",
       "<style scoped>\n",
       "    .dataframe tbody tr th:only-of-type {\n",
       "        vertical-align: middle;\n",
       "    }\n",
       "\n",
       "    .dataframe tbody tr th {\n",
       "        vertical-align: top;\n",
       "    }\n",
       "\n",
       "    .dataframe thead th {\n",
       "        text-align: right;\n",
       "    }\n",
       "</style>\n",
       "<table border=\"1\" class=\"dataframe\">\n",
       "  <thead>\n",
       "    <tr style=\"text-align: right;\">\n",
       "      <th></th>\n",
       "      <th>link</th>\n",
       "      <th>title</th>\n",
       "      <th>newspaper</th>\n",
       "      <th>summary</th>\n",
       "    </tr>\n",
       "  </thead>\n",
       "  <tbody>\n",
       "    <tr>\n",
       "      <th>0</th>\n",
       "      <td>https://v.daum.net/v/20201126060116191</td>\n",
       "      <td>秋-尹 충돌, 첫 심판대 '집행정지' 판단..법조계 전망은</td>\n",
       "      <td>뉴스1</td>\n",
       "      <td>\\n                        (서울=뉴스1) 이세현 기자 = 추미...</td>\n",
       "    </tr>\n",
       "    <tr>\n",
       "      <th>1</th>\n",
       "      <td>https://v.daum.net/v/20201126080036116</td>\n",
       "      <td>\"경찰, 어떻게 이렇게 조사하나\" 뺑소니 무죄선고 법관의 일침</td>\n",
       "      <td>연합뉴스</td>\n",
       "      <td>\\n                        (대전=연합뉴스) 이재림 기자 = 교...</td>\n",
       "    </tr>\n",
       "    <tr>\n",
       "      <th>2</th>\n",
       "      <td>https://v.daum.net/v/20201126060006039</td>\n",
       "      <td>[사건의 재구성] \"남편이 폭행\" 할리우드 액션 아내..제 발등 찍은 녹음</td>\n",
       "      <td>뉴스1</td>\n",
       "      <td>\\n                        (서울=뉴스1) 김근욱 기자 = 20...</td>\n",
       "    </tr>\n",
       "    <tr>\n",
       "      <th>3</th>\n",
       "      <td>https://v.daum.net/v/20201126070023097</td>\n",
       "      <td>마이크로칩 덕에 아들같은 반려견 7년만에 재회한 미국 견주</td>\n",
       "      <td>연합뉴스</td>\n",
       "      <td>\\n                        (서울=연합뉴스) 홍준석 기자 = 길...</td>\n",
       "    </tr>\n",
       "    <tr>\n",
       "      <th>4</th>\n",
       "      <td>https://v.daum.net/v/20201126063002624</td>\n",
       "      <td>美 B-1B 랜서에 장거리공대지 '재즘' 장착..폭탄·미사일 동시타격</td>\n",
       "      <td>뉴스1</td>\n",
       "      <td>\\n                        (서울=뉴스1) 이원준 기자 = 한반...</td>\n",
       "    </tr>\n",
       "  </tbody>\n",
       "</table>\n",
       "</div>"
      ],
      "text/plain": [
       "                                     link  \\\n",
       "0  https://v.daum.net/v/20201126060116191   \n",
       "1  https://v.daum.net/v/20201126080036116   \n",
       "2  https://v.daum.net/v/20201126060006039   \n",
       "3  https://v.daum.net/v/20201126070023097   \n",
       "4  https://v.daum.net/v/20201126063002624   \n",
       "\n",
       "                                       title newspaper  \\\n",
       "0           秋-尹 충돌, 첫 심판대 '집행정지' 판단..법조계 전망은       뉴스1   \n",
       "1         \"경찰, 어떻게 이렇게 조사하나\" 뺑소니 무죄선고 법관의 일침      연합뉴스   \n",
       "2  [사건의 재구성] \"남편이 폭행\" 할리우드 액션 아내..제 발등 찍은 녹음       뉴스1   \n",
       "3           마이크로칩 덕에 아들같은 반려견 7년만에 재회한 미국 견주      연합뉴스   \n",
       "4     美 B-1B 랜서에 장거리공대지 '재즘' 장착..폭탄·미사일 동시타격       뉴스1   \n",
       "\n",
       "                                             summary  \n",
       "0  \\n                        (서울=뉴스1) 이세현 기자 = 추미...  \n",
       "1  \\n                        (대전=연합뉴스) 이재림 기자 = 교...  \n",
       "2  \\n                        (서울=뉴스1) 김근욱 기자 = 20...  \n",
       "3  \\n                        (서울=연합뉴스) 홍준석 기자 = 길...  \n",
       "4  \\n                        (서울=뉴스1) 이원준 기자 = 한반...  "
      ]
     },
     "execution_count": 7,
     "metadata": {},
     "output_type": "execute_result"
    }
   ],
   "source": [
    "import pandas as pd\n",
    "df = pd.read_csv('kkomkkom_2020-11-26_news_list.csv', encoding='UTF-8')\n",
    "df.head()"
   ]
  },
  {
   "cell_type": "code",
   "execution_count": 8,
   "metadata": {},
   "outputs": [
    {
     "data": {
      "text/html": [
       "<div>\n",
       "<style scoped>\n",
       "    .dataframe tbody tr th:only-of-type {\n",
       "        vertical-align: middle;\n",
       "    }\n",
       "\n",
       "    .dataframe tbody tr th {\n",
       "        vertical-align: top;\n",
       "    }\n",
       "\n",
       "    .dataframe thead th {\n",
       "        text-align: right;\n",
       "    }\n",
       "</style>\n",
       "<table border=\"1\" class=\"dataframe\">\n",
       "  <thead>\n",
       "    <tr style=\"text-align: right;\">\n",
       "      <th></th>\n",
       "      <th>link</th>\n",
       "      <th>title</th>\n",
       "      <th>newspaper</th>\n",
       "      <th>summary</th>\n",
       "    </tr>\n",
       "  </thead>\n",
       "  <tbody>\n",
       "    <tr>\n",
       "      <th>0</th>\n",
       "      <td>https://v.daum.net/v/20201126084957415</td>\n",
       "      <td>'룸살롱 방문' 숨긴 확진 해양경찰관..허무하게 흘러간 52시간</td>\n",
       "      <td>연합뉴스</td>\n",
       "      <td>\\n                        (인천=연합뉴스) 김상연 기자 = 현...</td>\n",
       "    </tr>\n",
       "    <tr>\n",
       "      <th>1</th>\n",
       "      <td>https://v.daum.net/v/20201126103003397</td>\n",
       "      <td>[단독] 대검 감찰팀장, 秋에 반기 들었다 업무 배제</td>\n",
       "      <td>헤럴드경제</td>\n",
       "      <td>\\n                        [헤럴드경제=좌영길·안대용 기자] 윤...</td>\n",
       "    </tr>\n",
       "    <tr>\n",
       "      <th>2</th>\n",
       "      <td>https://v.daum.net/v/20201126092005693</td>\n",
       "      <td>소주 1잔 마셨다는 음주운전자..면허정지 수치에도 무죄 이유는</td>\n",
       "      <td>연합뉴스</td>\n",
       "      <td>\\n                        (인천=연합뉴스) 손현규 기자 = 어...</td>\n",
       "    </tr>\n",
       "    <tr>\n",
       "      <th>3</th>\n",
       "      <td>https://v.daum.net/v/20201126093613503</td>\n",
       "      <td>천은미 \"확진 200 넘으면 400, 400 넘으면 1000 바로 간다\"</td>\n",
       "      <td>노컷뉴스</td>\n",
       "      <td>\\n                        ■ 방송 : CBS 라디오  FM 9...</td>\n",
       "    </tr>\n",
       "    <tr>\n",
       "      <th>4</th>\n",
       "      <td>https://v.daum.net/v/20201126090514098</td>\n",
       "      <td>사랑제일교회 강제집행 7시간만에 중단..화염병까지 등장(종합2보)</td>\n",
       "      <td>연합뉴스</td>\n",
       "      <td>\\n                        (서울=연합뉴스) 정성조 기자 = 서...</td>\n",
       "    </tr>\n",
       "  </tbody>\n",
       "</table>\n",
       "</div>"
      ],
      "text/plain": [
       "                                     link  \\\n",
       "0  https://v.daum.net/v/20201126084957415   \n",
       "1  https://v.daum.net/v/20201126103003397   \n",
       "2  https://v.daum.net/v/20201126092005693   \n",
       "3  https://v.daum.net/v/20201126093613503   \n",
       "4  https://v.daum.net/v/20201126090514098   \n",
       "\n",
       "                                      title newspaper  \\\n",
       "0       '룸살롱 방문' 숨긴 확진 해양경찰관..허무하게 흘러간 52시간      연합뉴스   \n",
       "1             [단독] 대검 감찰팀장, 秋에 반기 들었다 업무 배제     헤럴드경제   \n",
       "2        소주 1잔 마셨다는 음주운전자..면허정지 수치에도 무죄 이유는      연합뉴스   \n",
       "3  천은미 \"확진 200 넘으면 400, 400 넘으면 1000 바로 간다\"      노컷뉴스   \n",
       "4      사랑제일교회 강제집행 7시간만에 중단..화염병까지 등장(종합2보)      연합뉴스   \n",
       "\n",
       "                                             summary  \n",
       "0  \\n                        (인천=연합뉴스) 김상연 기자 = 현...  \n",
       "1  \\n                        [헤럴드경제=좌영길·안대용 기자] 윤...  \n",
       "2  \\n                        (인천=연합뉴스) 손현규 기자 = 어...  \n",
       "3  \\n                        ■ 방송 : CBS 라디오  FM 9...  \n",
       "4  \\n                        (서울=연합뉴스) 정성조 기자 = 서...  "
      ]
     },
     "execution_count": 8,
     "metadata": {},
     "output_type": "execute_result"
    }
   ],
   "source": [
    "import pandas as pd\n",
    "df = pd.read_csv('popular_2020-11-26_news_list.csv', encoding='UTF-8')\n",
    "df.head()"
   ]
  },
  {
   "cell_type": "code",
   "execution_count": null,
   "metadata": {},
   "outputs": [],
   "source": []
  }
 ],
 "metadata": {
  "kernelspec": {
   "display_name": "Python 3",
   "language": "python",
   "name": "python3"
  },
  "language_info": {
   "codemirror_mode": {
    "name": "ipython",
    "version": 3
   },
   "file_extension": ".py",
   "mimetype": "text/x-python",
   "name": "python",
   "nbconvert_exporter": "python",
   "pygments_lexer": "ipython3",
   "version": "3.7.6"
  }
 },
 "nbformat": 4,
 "nbformat_minor": 4
}
